{
 "cells": [
  {
   "cell_type": "code",
   "execution_count": 1,
   "metadata": {},
   "outputs": [],
   "source": [
    "struct Grid{T<:Real}\n",
    "    lim_abs :: T\n",
    "    lim_ord :: T\n",
    "    tam_espacio :: T\n",
    "end"
   ]
  },
  {
   "cell_type": "code",
   "execution_count": 2,
   "metadata": {},
   "outputs": [
    {
     "data": {
      "text/plain": [
       "makeGrid"
      ]
     },
     "execution_count": 2,
     "metadata": {},
     "output_type": "execute_result"
    }
   ],
   "source": [
    "\"\"\"\n",
    "\tmakeGrid(g::Grid)\n",
    "Crear una matriz de rangos [rango_abcisas,rango_ordenadas]\n",
    "\"\"\"\n",
    "function makeGrid(g::Grid)\n",
    "    rango_ancisas = -g.lim_abs:g.tam_espacio:g.lim_abs\n",
    "    rango_ord = -g.lim_ord:g.tam_espacio:g.lim_ord\n",
    "end\n"
   ]
  },
  {
   "cell_type": "code",
   "execution_count": 3,
   "metadata": {},
   "outputs": [
    {
     "data": {
      "text/plain": [
       "f₅ (generic function with 1 method)"
      ]
     },
     "execution_count": 3,
     "metadata": {},
     "output_type": "execute_result"
    }
   ],
   "source": [
    "\n",
    "begin ##*\n",
    "    # Julia y Mandelbrot\n",
    "    fc(z,c)= z^2+c\n",
    "    \n",
    "    # Formas biológicas\n",
    "    f₁(z,c)=sin(z)+z^2+c\n",
    "    f₂(z,c)=z^z+z^6+c\n",
    "    f₃(z,c)=z^z+z^5+c\n",
    "    f₄(z,c)=z^5+c\n",
    "    f₅(z,c)=z^3+c\n",
    "end"
   ]
  },
  {
   "cell_type": "code",
   "execution_count": 4,
   "metadata": {},
   "outputs": [
    {
     "data": {
      "text/plain": [
       "testJM"
      ]
     },
     "execution_count": 4,
     "metadata": {},
     "output_type": "execute_result"
    }
   ],
   "source": [
    "\"\"\" *\n",
    "\ttestJM(z::Complex)\n",
    "Comprobar el criterio de convergencia para los conjuntos de Julia y Mandelbrot\n",
    "\"\"\"\n",
    "function testJM(z::Complex)\n",
    "\treturn sqrt(real(z)^2 + imag(z)^2)<2\n",
    "end\n"
   ]
  },
  {
   "cell_type": "code",
   "execution_count": 5,
   "metadata": {},
   "outputs": [
    {
     "data": {
      "text/plain": [
       "testbiomorph"
      ]
     },
     "execution_count": 5,
     "metadata": {},
     "output_type": "execute_result"
    }
   ],
   "source": [
    "\"\"\"\n",
    "\ttestbiomorph(z::Complex,τ::Real)\n",
    "Comprobar el criterio de convergencia para los conjuntos de Julia y Mandelbrot\n",
    "\"\"\"\n",
    "function testbiomorph(z::Complex,τ::Real)\n",
    "\treturn (real(z)<τ)&&(imag(z)<τ)\n",
    "end\n"
   ]
  },
  {
   "cell_type": "code",
   "execution_count": null,
   "metadata": {},
   "outputs": [],
   "source": [
    "\"\"\"\n",
    "\titerate(test::Function,f::Function,z::Complex,iter::Integer)\n",
    "Interar z sobre una funcion f\n",
    "\"\"\"\n",
    "function iterate(test::Function,f::Function,z::Complex,iter::Integer)\n",
    "    for i in 1:iter\n",
    "        if test(z)==false\n",
    "            return false\n",
    "        else\n",
    "            z = f(z)\n",
    "    end\n",
    "    return true\n",
    "end\n"
   ]
  }
 ],
 "metadata": {
  "kernelspec": {
   "display_name": "Julia 1.5.3",
   "language": "julia",
   "name": "julia-1.5"
  },
  "language_info": {
   "file_extension": ".jl",
   "mimetype": "application/julia",
   "name": "julia",
   "version": "1.5.3"
  }
 },
 "nbformat": 4,
 "nbformat_minor": 4
}
